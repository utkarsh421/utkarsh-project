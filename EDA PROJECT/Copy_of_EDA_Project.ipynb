{
  "nbformat": 4,
  "nbformat_minor": 0,
  "metadata": {
    "colab": {
      "private_outputs": true,
      "provenance": [],
      "collapsed_sections": [
        "KSlN3yHqYklG",
        "EM7whBJCYoAo",
        "4Of9eVA-YrdM",
        "OH-pJp9IphqM",
        "BZR9WyysphqO"
      ]
    },
    "kernelspec": {
      "name": "python3",
      "display_name": "Python 3"
    },
    "language_info": {
      "name": "python"
    }
  },
  "cells": [
    {
      "cell_type": "markdown",
      "source": [
        "# **Project Name**    - Hotel Booking Analysis\n",
        "\n"
      ],
      "metadata": {
        "id": "vncDsAP0Gaoa"
      }
    },
    {
      "cell_type": "markdown",
      "source": [
        "##### **Project Type**    - EDA\n",
        "##### **Contribution**    - Individual\n",
        "##### **Project By**         - Utkarsh Kumar\n",
        "\n"
      ],
      "metadata": {
        "id": "beRrZCGUAJYm"
      }
    },
    {
      "cell_type": "markdown",
      "source": [
        "# **Project Summary -**\n",
        "\n",
        "\n",
        "\n"
      ],
      "metadata": {
        "id": "FJNUwmbgGyua"
      }
    },
    {
      "cell_type": "markdown",
      "source": [
        "This project looks at hotel bookings, especially focusing on cancellations and the reasons behind them. It also suggests ways hotels can reduce cancellations and increase their income.\n",
        "\n",
        "The data we are analyzing includes information from a city hotel and a resort hotel. It has important details like when the booking was made, how long the stay was, and how many adults and children were included in the booking. This project will go through steps to explore the data and create visual representations to help us understand it better.\n",
        "\n",
        "The main goal of this analysis is to study the given dataset closely. Based on this study, we will suggest ways hotels can lower cancellation rates and earn more money. For example, hotels could offer discounts for customers who book early or for those who stay longer. They might also provide added perks like free parking or breakfast for guests who book directly with them instead of through third-party websites.\n",
        "\n",
        "The EDA is divided into several steps. The first step involves exploring and examining the raw data to get a sense of what it contains. The second step deals with cleaning the data by fixing problems like missing values and removing any unnecessary information.\n",
        "\n",
        "This EDA includes three types of analysis:\n",
        "\n",
        "Univariate Analysis: This looks at one variable at a time to understand its distribution and characteristics.\n",
        "\n",
        "Bivariate Analysis: In this part, we compare two variables to see how they relate to each other.\n",
        "\n",
        "Multivariate Analysis: This looks at more than two variables at once to identify complex relationships within the data."
      ],
      "metadata": {
        "id": "F6v_1wHtG2nS"
      }
    },
    {
      "cell_type": "markdown",
      "source": [
        "# **GitHub Link -**"
      ],
      "metadata": {
        "id": "w6K7xa23Elo4"
      }
    },
    {
      "cell_type": "markdown",
      "source": [
        "https://github.com/utkarsh421/utkarsh-project"
      ],
      "metadata": {
        "id": "h1o69JH3Eqqn"
      }
    },
    {
      "cell_type": "markdown",
      "source": [
        "# **Problem Statement**\n"
      ],
      "metadata": {
        "id": "yQaldy8SH6Dl"
      }
    },
    {
      "cell_type": "markdown",
      "source": [
        "Imagine being able to predict with certainty the most popular time of year to book a hotel room, or the ideal length of stay to snag the best daily rate. Or, picture yourself being able to forecast whether a hotel is likely to receive a surge in special requests. Sounds like a hotelier's dream come true! But, what if you had a dataset that could help you unlock these secrets?\n",
        "\n",
        "We're about to dive into a treasure trove of hotel booking information, featuring bookings for a city hotel and a resort hotel. Our dataset offers a fascinating glimpse into the world of hotel bookings, complete with details such as:\n",
        "\n",
        "When bookings were made (peak season, off-season, or somewhere in between)\n",
        "The length of stay (short and sweet, or a prolonged vacation)\n",
        "The number of guests (a solo traveler, a family of four, or a group of friends)\n",
        "Special requests (requests for cribs, extra beds, or other amenities)\n",
        "And much, much more"
      ],
      "metadata": {
        "id": "DpeJGUA3kjGy"
      }
    },
    {
      "cell_type": "markdown",
      "source": [
        "#### **Define Your Business Objective?**"
      ],
      "metadata": {
        "id": "PH-0ReGfmX4f"
      }
    },
    {
      "cell_type": "markdown",
      "source": [
        "The objective of this project is to uncover valuable insights into customer behavior when making hotel reservations. Demand may vary across different customer segments, complicating the forecasting process, as distinct models may be necessary for each segment. These insights can help hotels refine their customer strategies and better prepare for unforeseen circumstances."
      ],
      "metadata": {
        "id": "PhDvGCAqmjP1"
      }
    },
    {
      "cell_type": "markdown",
      "source": [
        "# ***Let's Begin !***"
      ],
      "metadata": {
        "id": "O_i_v8NEhb9l"
      }
    },
    {
      "cell_type": "markdown",
      "source": [
        "## ***1. Know Your Data***"
      ],
      "metadata": {
        "id": "HhfV-JJviCcP"
      }
    },
    {
      "cell_type": "markdown",
      "source": [
        "### Import Libraries"
      ],
      "metadata": {
        "id": "Y3lxredqlCYt"
      }
    },
    {
      "cell_type": "code",
      "source": [
        "# Import Libraries\n",
        "import pandas as pd\n",
        "import numpy as np\n",
        "import matplotlib.pyplot as plt\n",
        "import seaborn as sns"
      ],
      "metadata": {
        "id": "M8Vqi-pPk-HR"
      },
      "execution_count": null,
      "outputs": []
    },
    {
      "cell_type": "markdown",
      "source": [
        "### Dataset Loading"
      ],
      "metadata": {
        "id": "3RnN4peoiCZX"
      }
    },
    {
      "cell_type": "code",
      "source": [
        "# Load Dataset\n",
        "from google.colab import drive\n",
        "drive.mount('/content/drive')\n"
      ],
      "metadata": {
        "id": "4CkvbW_SlZ_R"
      },
      "execution_count": null,
      "outputs": []
    },
    {
      "cell_type": "code",
      "source": [
        "df = pd.read_csv('/content/drive/MyDrive/Hotel Bookings  (1).csv')"
      ],
      "metadata": {
        "id": "orn1TkLY0SFR"
      },
      "execution_count": null,
      "outputs": []
    },
    {
      "cell_type": "markdown",
      "source": [
        "### Dataset First View"
      ],
      "metadata": {
        "id": "x71ZqKXriCWQ"
      }
    },
    {
      "cell_type": "code",
      "source": [
        "# Dataset First Look\n",
        "df.head()"
      ],
      "metadata": {
        "id": "LWNFOSvLl09H"
      },
      "execution_count": null,
      "outputs": []
    },
    {
      "cell_type": "markdown",
      "source": [
        "### Dataset Rows & Columns count"
      ],
      "metadata": {
        "id": "7hBIi_osiCS2"
      }
    },
    {
      "cell_type": "code",
      "source": [
        "# Dataset Rows & Columns count\n",
        "rows,columns = df.shape\n",
        "print(f'Total number of rows: {rows}')\n",
        "print(f'Total number of columns: {columns}')\n"
      ],
      "metadata": {
        "id": "Kllu7SJgmLij"
      },
      "execution_count": null,
      "outputs": []
    },
    {
      "cell_type": "markdown",
      "source": [
        "### Dataset Information"
      ],
      "metadata": {
        "id": "JlHwYmJAmNHm"
      }
    },
    {
      "cell_type": "code",
      "source": [
        "# Dataset Info\n",
        "df.info()"
      ],
      "metadata": {
        "id": "e9hRXRi6meOf"
      },
      "execution_count": null,
      "outputs": []
    },
    {
      "cell_type": "markdown",
      "source": [
        "#### Duplicate Values"
      ],
      "metadata": {
        "id": "35m5QtbWiB9F"
      }
    },
    {
      "cell_type": "code",
      "source": [
        "# Dataset Duplicate Value Count\n",
        "df.duplicated().sum()"
      ],
      "metadata": {
        "id": "1sLdpKYkmox0"
      },
      "execution_count": null,
      "outputs": []
    },
    {
      "cell_type": "markdown",
      "source": [
        "#### Missing Values/Null Values"
      ],
      "metadata": {
        "id": "PoPl-ycgm1ru"
      }
    },
    {
      "cell_type": "code",
      "source": [
        "# Missing Values/Null Values Count\n",
        "df.isnull().sum()"
      ],
      "metadata": {
        "id": "GgHWkxvamxVg"
      },
      "execution_count": null,
      "outputs": []
    },
    {
      "cell_type": "code",
      "source": [
        "# Visualizing the missing values\n",
        "\n",
        "plt.figure(figsize=(15,8))\n",
        "sns.heatmap(df.isna(),\n",
        "            cmap=\"coolwarm\",\n",
        "            cbar_kws={'label': 'Missing Data'})\n",
        "\n",
        "plt.title('Missing Values', fontsize=18)\n",
        "plt.show()\n"
      ],
      "metadata": {
        "id": "3q5wnI3om9sJ"
      },
      "execution_count": null,
      "outputs": []
    },
    {
      "cell_type": "markdown",
      "source": [
        "## ***2. Understanding Your Variables***"
      ],
      "metadata": {
        "id": "nA9Y7ga8ng1Z"
      }
    },
    {
      "cell_type": "code",
      "source": [
        "# Dataset Columns\n",
        "df.columns\n"
      ],
      "metadata": {
        "id": "j7xfkqrt5Ag5"
      },
      "execution_count": null,
      "outputs": []
    },
    {
      "cell_type": "code",
      "source": [
        "# Dataset Describe\n",
        "df.describe()"
      ],
      "metadata": {
        "id": "DnOaZdaE5Q5t"
      },
      "execution_count": null,
      "outputs": []
    },
    {
      "cell_type": "markdown",
      "source": [
        "## ***2. Variables Description***"
      ],
      "metadata": {
        "id": "5D9tFphFrjJf"
      }
    },
    {
      "cell_type": "markdown",
      "source": [
        "**hotel**: Type of hotel (City Hotel or Resort Hotel)  \n",
        "**is_canceled**: Booking cancellation status (1 = Canceled, 0 = Not Canceled)  \n",
        "**lead_time**: Number of days between booking and arrival  \n",
        "**arrival_date_year**: Year of arrival date  \n",
        "**arrival_date_month**: Month of arrival date  \n",
        "**arrival_date_week_number**: Week number of arrival date  \n",
        "**arrival_date_day_of_month**: Day of arrival date  \n",
        "**stays_in_weekend_nights**: Number of weekend nights (Saturday/Sunday) stayed  \n",
        "**stays_in_week_nights**: Number of weekday nights stayed  \n",
        "**adults**: Number of adults in the booking  \n",
        "**children**: Number of children in the booking  \n",
        "**babies**: Number of babies in the booking  \n",
        "**meal**: Type of meal booked (BB = Bed & Breakfast, HB = Half Board, etc.)  \n",
        "**country**: Country of origin of guests  \n",
        "**market_segment**: Market segment (e.g., Online TA, Offline TA, Direct)  \n",
        "**distribution_channel**: Booking distribution channel (Direct, TA/TO, etc.)  \n",
        "**is_repeated_guest**: 1 if guest has booked before, 0 otherwise  \n",
        "**previous_cancellations**: Number of previous cancellations by the guest  \n",
        "**previous_bookings_not_canceled**: Number of previous non-canceled bookings by the guest  \n",
        "**reserved_room_type**: Room type reserved by the guest  \n",
        "**assigned_room_type**: Room type actually assigned  \n",
        "**booking_changes**: Number of changes made to the booking  \n",
        "**deposit_type**: Type of deposit (No Deposit, Non Refund, Refundable)  \n",
        "**agent**: ID of the travel agency that made the booking. If no agency was involved, the value is null.  \n",
        "**company**: ID of the company that made the booking. If no company was involved, the value is null.  \n",
        "**days_in_waiting_list**: Number of days booking was on the waiting list  \n",
        "**customer_type**: Type of customer (Contract, Group, Transient, etc.)  \n",
        "**adr**: Average Daily Rate (Revenue per occupied room per day)  \n",
        "**required_car_parking_spaces**: Number of parking spaces required  \n",
        "**total_of_special_requests**: Number of special requests made by guest  \n",
        "**reservation_status**: Last status of the booking (Canceled, Check-Out, No-Show)  \n",
        "**reservation_status_date**: Date of last status update  \n"
      ],
      "metadata": {
        "id": "aJV4KIxSnxay"
      }
    },
    {
      "cell_type": "markdown",
      "source": [
        "### Check Unique Values for each variable."
      ],
      "metadata": {
        "id": "u3PMJOP6ngxN"
      }
    },
    {
      "cell_type": "code",
      "source": [
        "# Check Unique Values for each variable.\n",
        "for i in df.columns :\n",
        " print(i,':',\" \",df[i].unique()[:10].tolist())"
      ],
      "metadata": {
        "id": "zms12Yq5n-jE"
      },
      "execution_count": null,
      "outputs": []
    },
    {
      "cell_type": "markdown",
      "source": [
        "## 3. ***Data Wrangling***"
      ],
      "metadata": {
        "id": "dauF4eBmngu3"
      }
    },
    {
      "cell_type": "markdown",
      "source": [
        "### Data Wrangling Code"
      ],
      "metadata": {
        "id": "bKJF3rekwFvQ"
      }
    },
    {
      "cell_type": "code",
      "source": [
        "df1 = df.copy()"
      ],
      "metadata": {
        "id": "wk-9a2fpoLcV"
      },
      "execution_count": null,
      "outputs": []
    },
    {
      "cell_type": "code",
      "source": [
        "df1.columns"
      ],
      "metadata": {
        "id": "woAhJajUTcm3"
      },
      "execution_count": null,
      "outputs": []
    },
    {
      "cell_type": "code",
      "source": [
        "## replacing null values in children column with 0 assuming that family had 0 children\n",
        "# replacing null values in company and agent columns with 0 assuming those rooms were booked without company/agent\n",
        "\n",
        "df1['agent'].fillna(0,inplace =True)\n",
        "df1['company'].fillna(0,inplace =True)\n",
        "df1['children'].fillna(0,inplace =True)\n",
        "\n",
        "# replacing null values in country column as 'unknown'\n",
        "df1['country'].fillna('unknown',inplace =True)"
      ],
      "metadata": {
        "id": "qEaIQzSrTcjh"
      },
      "execution_count": null,
      "outputs": []
    },
    {
      "cell_type": "code",
      "source": [
        "# check fo null values\n",
        "df1.isnull().sum()"
      ],
      "metadata": {
        "id": "F1sG1vOJTchW"
      },
      "execution_count": null,
      "outputs": []
    },
    {
      "cell_type": "code",
      "source": [
        "df1.info()"
      ],
      "metadata": {
        "id": "kcrjm3Dn3o-Q"
      },
      "execution_count": null,
      "outputs": []
    },
    {
      "cell_type": "code",
      "source": [
        "# dropping rows where no adults , children and babies are available because no bookings were made that day\n",
        "no_guest = df1[df1['adults']+df1['babies']+df1['children']==0]\n",
        "\n",
        "# Count the number of such rows\n",
        "df1.drop(no_guest.index, inplace=True)\n",
        "\n",
        "\n"
      ],
      "metadata": {
        "id": "N02Z5bcfVTzM"
      },
      "execution_count": null,
      "outputs": []
    },
    {
      "cell_type": "markdown",
      "source": [
        "## 4. ***Data Vizualization, Storytelling & Experimenting with charts : Understand the relationships between variables***"
      ],
      "metadata": {
        "id": "GF8Ens_Soomf"
      }
    },
    {
      "cell_type": "markdown",
      "source": [
        "#### Chart - 1"
      ],
      "metadata": {
        "id": "KSlN3yHqYklG"
      }
    },
    {
      "cell_type": "markdown",
      "source": [
        "#***Which type of hotel is most preffered by the guests?***"
      ],
      "metadata": {
        "id": "1-QmEomV1xgU"
      }
    },
    {
      "cell_type": "code",
      "source": [
        "# Chart - count_hotel\n",
        "# Count the number of bookings for each hotel type\n",
        "hotel_count= df1.groupby('hotel')['hotel'].count()\n",
        "# plotting value in pie chart\n",
        "hotel_count.plot.pie(figsize=(9,7), autopct='%1.2f%%', shadow=True, fontsize=15,startangle=50)\n",
        "# Setting the title\n",
        "plt.title('Hotel Booking Percentage')\n",
        "plt.axis('equal')\n",
        "plt.show()\n",
        "\n"
      ],
      "metadata": {
        "id": "R4YgtaqtYklH"
      },
      "execution_count": null,
      "outputs": []
    },
    {
      "cell_type": "markdown",
      "source": [
        "##### **1. Why did you pick the specific chart?**"
      ],
      "metadata": {
        "id": "t6dVpIINYklI"
      }
    },
    {
      "cell_type": "markdown",
      "source": [
        "A pie chart is chosen because it visually represents the percentage share of each hotel type in total bookings. Since there are only two categories (City Hotel and Resort Hotel), a pie chart makes it easy to compare their proportions at a glance.\n"
      ],
      "metadata": {
        "id": "5aaW0BYyYklI"
      }
    },
    {
      "cell_type": "markdown",
      "source": [
        "##### **2. What is/are the insight(s) found from the chart?**"
      ],
      "metadata": {
        "id": "ijmpgYnKYklI"
      }
    },
    {
      "cell_type": "markdown",
      "source": [
        " - City Hotels account for 66% of total bookings, while Resort Hotels make up 34%.\n",
        " - This indicates that most guests prefer City Hotels, likely for business,\n",
        "   work-related travel, or short stays.\n",
        " - Resort Hotels, making up the remaining 34%, might be preferred by vacationers and leisure travelers."
      ],
      "metadata": {
        "id": "PSx9atu2YklI"
      }
    },
    {
      "cell_type": "markdown",
      "source": [
        "##### **3. Will the gained insights help creating a positive business impact?**\n",
        "Are there any insights that lead to negative growth? Justify with specific reason."
      ],
      "metadata": {
        "id": "-JiQyfWJYklI"
      }
    },
    {
      "cell_type": "markdown",
      "source": [
        " Yes, these insights can help in business decision-making:\n",
        "\n",
        "City Hotels should focus on business travelers, offering corporate deals and weekday promotions.\n",
        "Resort Hotels should improve marketing efforts for holiday travelers, family packages, and weekend discounts.\n",
        "Hotels can adjust pricing strategies based on peak demand periods for each type.\n",
        "If the goal is to increase Resort Hotel bookings, the business can run targeted promotions during vacation seasons."
      ],
      "metadata": {
        "id": "BcBbebzrYklV"
      }
    },
    {
      "cell_type": "markdown",
      "source": [
        "#### **Chart** - **2**"
      ],
      "metadata": {
        "id": "EM7whBJCYoAo"
      }
    },
    {
      "cell_type": "markdown",
      "source": [
        "#***What is perecentage of hotel booking cancellation?***"
      ],
      "metadata": {
        "id": "tGSifNZzC4OG"
      }
    },
    {
      "cell_type": "code",
      "source": [
        "# Chart - 2 visualization cod\n",
        "cancel_booking = df1['is_canceled'].value_counts()\n",
        "cancel_booking.plot.pie(figsize=(9,7), autopct='%1.2f%%', shadow=True, fontsize=15,startangle=50,explode=(0.1,0))"
      ],
      "metadata": {
        "id": "t6GMdE67YoAp"
      },
      "execution_count": null,
      "outputs": []
    },
    {
      "cell_type": "markdown",
      "source": [
        "##### **1. Why did you pick the specific chart?**"
      ],
      "metadata": {
        "id": "fge-S5ZAYoAp"
      }
    },
    {
      "cell_type": "markdown",
      "source": [
        "A pie chart was chosen because it effectively displays the proportion of canceled vs. non-canceled bookings as parts of a whole. Since there are only two categories (canceled and not canceled), a pie chart allows for a clear and immediate visual comparison. Additionally, by showing percentages directly on the chart, it helps stakeholders quickly understand the relative impact of cancellations on the overall booking volume.\n",
        "\n"
      ],
      "metadata": {
        "id": "5dBItgRVYoAp"
      }
    },
    {
      "cell_type": "markdown",
      "source": [
        "##### **2. What is/are the insight(s) found from the chart?**"
      ],
      "metadata": {
        "id": "85gYPyotYoAp"
      }
    },
    {
      "cell_type": "markdown",
      "source": [
        "The chart reveals that:\n",
        "\n",
        "- Approximately 37% of bookings were canceled.\n",
        "-Around 63% of bookings were successfully completed (not canceled)."
      ],
      "metadata": {
        "id": "4jstXR6OYoAp"
      }
    },
    {
      "cell_type": "markdown",
      "source": [
        "##### **3. Will the gained insights help creating a positive business impact?**\n",
        "Are there any insights that lead to negative growth? Justify with specific reason."
      ],
      "metadata": {
        "id": "RoGjAbkUYoAp"
      }
    },
    {
      "cell_type": "markdown",
      "source": [
        "Yes, these insights can drive positive business impact if acted upon:\n",
        "\n",
        "The hotel can implement stricter cancellation policies, such as requiring advance deposits or offering discounts for non-refundable bookings to reduce cancellations.\n",
        "Marketing campaigns can target reliable customer segments (business travelers, loyal guests) who are less likely to cancel."
      ],
      "metadata": {
        "id": "zfJ8IqMcYoAp"
      }
    },
    {
      "cell_type": "markdown",
      "source": [
        "#### **Chart - 3**"
      ],
      "metadata": {
        "id": "4Of9eVA-YrdM"
      }
    },
    {
      "cell_type": "markdown",
      "source": [
        "#***Monthly Booking Trend***"
      ],
      "metadata": {
        "id": "eyaNRA6WX3Bj"
      }
    },
    {
      "cell_type": "code",
      "source": [
        "# Define correct month order\n",
        "month_order = ['January', 'February', 'March', 'April', 'May', 'June',\n",
        "               'July', 'August', 'September', 'October', 'November', 'December']\n",
        "\n",
        "# Ensure 'arrival_date_month' is categorical and correctly ordered\n",
        "df['arrival_date_month'] = pd.Categorical(df['arrival_date_month'], categories=month_order, ordered=True)\n",
        "\n",
        "# Group data & create a DataFrame\n",
        "monthly_trend = df.groupby(['arrival_date_month', 'hotel']).size().reset_index(name='count')\n",
        "\n",
        "# Plot using Seaborn\n",
        "plt.figure(figsize=(12, 6))\n",
        "sns.lineplot(data=monthly_trend, x='arrival_date_month', y='count', hue='hotel', marker='o')\n",
        "\n",
        "plt.title('Monthly Booking Trend by Hotel Type')\n",
        "plt.xlabel('Month')\n",
        "plt.ylabel('Number of Bookings')\n",
        "plt.xticks(rotation=45)\n",
        "plt.legend(title=\"Hotel Type\")\n",
        "plt.grid(True)\n",
        "plt.show()\n",
        "\n"
      ],
      "metadata": {
        "id": "TIJwrbroYuh3"
      },
      "execution_count": null,
      "outputs": []
    },
    {
      "cell_type": "markdown",
      "source": [
        "##### **1. Why did you pick the specific chart?**"
      ],
      "metadata": {
        "id": "QHF8YVU7Yuh3"
      }
    },
    {
      "cell_type": "markdown",
      "source": [
        "I picked a Line Plot because it effectively shows trends over time, allowing us to compare how bookings for different hotel types vary month by month.Answer Here."
      ],
      "metadata": {
        "id": "dcxuIMRPYuh3"
      }
    },
    {
      "cell_type": "markdown",
      "source": [
        "##### **2. What is/are the insight(s) found from the chart?**"
      ],
      "metadata": {
        "id": "GwzvFGzlYuh3"
      }
    },
    {
      "cell_type": "markdown",
      "source": [
        "The chart shows that hotel bookings have a seasonal trend, with peak bookings in the summer months (June–August) and a decline in the winter months."
      ],
      "metadata": {
        "id": "uyqkiB8YYuh3"
      }
    },
    {
      "cell_type": "markdown",
      "source": [
        "##### **3. Will the gained insights help creating a positive business impact?**\n"
      ],
      "metadata": {
        "id": "qYpmQ266Yuh3"
      }
    },
    {
      "cell_type": "markdown",
      "source": [
        "Yes, this insight can positively impact the business. Knowing peak booking periods allows hotels to adjust their pricing, increase staff availability, and optimize marketing efforts. However, the off-season decline might indicate the need for special discounts or promotions to attract guests during those months."
      ],
      "metadata": {
        "id": "_WtzZ_hCYuh4"
      }
    },
    {
      "cell_type": "markdown",
      "source": [
        "#### **Chart - 4**"
      ],
      "metadata": {
        "id": "OH-pJp9IphqM"
      }
    },
    {
      "cell_type": "markdown",
      "source": [
        "#***Lead Time Distribution***"
      ],
      "metadata": {
        "id": "1VOIF85XwVg7"
      }
    },
    {
      "cell_type": "code",
      "source": [
        "# Chart - 4 visualization code\n",
        "\n",
        "plt.figure(figsize=(8, 5))\n",
        "sns.histplot(df1['lead_time'], bins=30, kde=True, color=\"red\")\n",
        "plt.title(\"Lead Time Distribution\")\n",
        "plt.xlabel(\"Lead Time (Days)\")\n",
        "plt.show()\n"
      ],
      "metadata": {
        "id": "kuRf4wtuphqN"
      },
      "execution_count": null,
      "outputs": []
    },
    {
      "cell_type": "markdown",
      "source": [
        "##### **1. Why did you pick the specific chart?**"
      ],
      "metadata": {
        "id": "bbFf2-_FphqN"
      }
    },
    {
      "cell_type": "markdown",
      "source": [
        "A histogram is used because it effectively displays the distribution of lead time (days between booking and check-in)."
      ],
      "metadata": {
        "id": "loh7H2nzphqN"
      }
    },
    {
      "cell_type": "markdown",
      "source": [
        "##### **2. What is/are the insight(s) found from the chart?**"
      ],
      "metadata": {
        "id": "_ouA3fa0phqN"
      }
    },
    {
      "cell_type": "markdown",
      "source": [
        "Most bookings are made within a short lead time (0–30 days), but some are booked several months in advance."
      ],
      "metadata": {
        "id": "VECbqPI7phqN"
      }
    },
    {
      "cell_type": "markdown",
      "source": [
        "##### **3. Will the gained insights help creating a positive business impact?**\n",
        "Are there any insights that lead to negative growth? Justify with specific reason."
      ],
      "metadata": {
        "id": "Seke61FWphqN"
      }
    },
    {
      "cell_type": "markdown",
      "source": [
        "Knowing lead times helps in pricing strategies. Hotels can offer discounts for early bookings and charge higher rates for last-minute bookings to maximize revenue.Answer Here"
      ],
      "metadata": {
        "id": "DW4_bGpfphqN"
      }
    },
    {
      "cell_type": "markdown",
      "source": [
        "#### **Chart - 5**"
      ],
      "metadata": {
        "id": "PIIx-8_IphqN"
      }
    },
    {
      "cell_type": "code",
      "source": [
        "# Chart - 5 visualization code\n",
        "plt.figure(figsize=(10, 5))\n",
        "sns.countplot(y=\"market_segment\", data=df1,order=df1[\"market_segment\"].value_counts().index, palette=\"Set2\", hue=\"market_segment\",)\n",
        "plt.title(\"Market Segment Distribution\")\n",
        "plt.show()\n",
        "\n"
      ],
      "metadata": {
        "id": "lqAIGUfyphqO"
      },
      "execution_count": null,
      "outputs": []
    },
    {
      "cell_type": "markdown",
      "source": [
        "##### **1. Why did you pick the specific chart?**"
      ],
      "metadata": {
        "id": "t27r6nlMphqO"
      }
    },
    {
      "cell_type": "markdown",
      "source": [
        "A horizontal bar chart was chosen because it effectively displays the distribution of bookings across different market segments. Bar charts are ideal for comparing the size of multiple categories."
      ],
      "metadata": {
        "id": "iv6ro40sphqO"
      }
    },
    {
      "cell_type": "markdown",
      "source": [
        "##### **2. What is/are the insight(s) found from the chart?**"
      ],
      "metadata": {
        "id": "r2jJGEOYphqO"
      }
    },
    {
      "cell_type": "markdown",
      "source": [
        "Online travel agencies contribute the highest number of bookings, followed by offline travel agents and groups. Direct and corporate bookings are much lower, showing reliance on third-party channels."
      ],
      "metadata": {
        "id": "Po6ZPi4hphqO"
      }
    },
    {
      "cell_type": "markdown",
      "source": [
        "##### **3. Will the gained insights help creating a positive business impact?**\n",
        "**Are there any insights that lead to negative growth? Justify with specific reason.**"
      ],
      "metadata": {
        "id": "b0JNsNcRphqO"
      }
    },
    {
      "cell_type": "markdown",
      "source": [
        "These insights help identify top-performing channels, allowing the business to focus on strengthening key partnerships. However, over-dependence on online travel agencies could hurt profitability due to high commission fees, highlighting the need to boost direct bookings."
      ],
      "metadata": {
        "id": "4OMOLmL_u42M"
      }
    },
    {
      "cell_type": "markdown",
      "source": [
        "#### **Chart - 6**"
      ],
      "metadata": {
        "id": "BZR9WyysphqO"
      }
    },
    {
      "cell_type": "markdown",
      "source": [
        "#***Booking Trend by Hotel Type Over Years***"
      ],
      "metadata": {
        "id": "DKFdKkY3QSh5"
      }
    },
    {
      "cell_type": "code",
      "source": [
        "# Chart - 6 visualization code\n",
        "# Group by year and hotel type\n",
        "yarly_trend= df.groupby(['arrival_date_year', 'hotel']).size().unstack()\n",
        "yarly_trend.plot(kind='line', marker='o', figsize=(8, 5))\n",
        "plt.title(\"Yearly Booking Trend by Hotel Type\")\n",
        "plt.xlabel(\"Year\")\n",
        "plt.ylabel(\"Number of Bookings\")\n",
        "plt.grid(True)\n",
        "plt.show()"
      ],
      "metadata": {
        "id": "TdPTWpAVphqO"
      },
      "execution_count": null,
      "outputs": []
    },
    {
      "cell_type": "markdown",
      "source": [
        "##### **1. Why did you pick the specific chart?**"
      ],
      "metadata": {
        "id": "jj7wYXLtphqO"
      }
    },
    {
      "cell_type": "markdown",
      "source": [
        "A Line Plot clearly shows how bookings change over different years.\n"
      ],
      "metadata": {
        "id": "Ob8u6rCTphqO"
      }
    },
    {
      "cell_type": "markdown",
      "source": [
        "##### **2. What is/are the insight(s) found from the chart?**"
      ],
      "metadata": {
        "id": "eZrbJ2SmphqO"
      }
    },
    {
      "cell_type": "markdown",
      "source": [
        "- Peak Bookings in 2016: Both City Hotels and Resort Hotels experienced the highest number of bookings in 2016, with City Hotels peaking significantly higher than Resort Hotels.\n",
        "- Decline After 2016: Bookings dropped in 2017 for both types of hotels, possibly due to external factors like economic conditions, travel restrictions, or market saturation.\n",
        "- City Hotels More Popular: City Hotels consistently had more bookings than Resort Hotels in all years, indicating a preference for urban stays over resort accommodations."
      ],
      "metadata": {
        "id": "tKB1XHQoRlPA"
      }
    },
    {
      "cell_type": "markdown",
      "source": [
        "##### **3. Will the gained insights help creating a positive business impact?**"
      ],
      "metadata": {
        "id": "Y6vs1XygT6wj"
      }
    },
    {
      "cell_type": "markdown",
      "source": [
        "Yes, these insights can positively impact business decisions. Hotels can adjust their pricing strategies, staff allocation, and marketing efforts based on peak booking periods. Additionally, understanding the decline after 2016 can help identify potential reasons and implement corrective measures, such as promotions or targeted marketing campaigns."
      ],
      "metadata": {
        "id": "wez5V9DJUIKs"
      }
    },
    {
      "cell_type": "markdown",
      "source": [
        "#### **Chart - 7**"
      ],
      "metadata": {
        "id": "9hVe6C6kUcoB"
      }
    },
    {
      "cell_type": "markdown",
      "source": [
        "#***Country-wise Bookings (Bar Chart - Top 10 Countries)***"
      ],
      "metadata": {
        "id": "Lles-6WHUcbK"
      }
    },
    {
      "cell_type": "code",
      "source": [
        "# Chart - 7 visualization code\n",
        "top_booking_country = df1['country'].value_counts().head(10)\n",
        "\n",
        "# Convert to DataFrame for Seaborn\n",
        "top_booking_country_df = top_booking_country.reset_index()\n",
        "top_booking_country_df.columns = ['Country', 'Bookings']\n",
        "\n",
        "# Plot\n",
        "plt.figure(figsize=(12,6))\n",
        "sns.barplot(data=top_booking_country_df, x='Country', y='Bookings',palette ='Set2', hue=\"Bookings\",)\n",
        "plt.xticks(rotation=45)  # Rotate x labels for better readability\n",
        "plt.title(\"Top 10 Booking Countries\")\n",
        "plt.show()\n",
        "\n"
      ],
      "metadata": {
        "id": "O4_EYDjXVEvQ"
      },
      "execution_count": null,
      "outputs": []
    },
    {
      "cell_type": "markdown",
      "source": [
        "##### **1. Why did you pick the specific chart?**"
      ],
      "metadata": {
        "id": "8dts3B8NbW4K"
      }
    },
    {
      "cell_type": "markdown",
      "source": [
        "  I picked a Bar Chart because it effectively compares the number of bookings across different countries, making it easy to identify the top contributors to hotel bookings.\n",
        "\n"
      ],
      "metadata": {
        "id": "natuV3sIbWTW"
      }
    },
    {
      "cell_type": "markdown",
      "source": [
        "##### **2. What is/are the insight(s) found from the chart?**"
      ],
      "metadata": {
        "id": "-mpv2eumbV5d"
      }
    },
    {
      "cell_type": "markdown",
      "source": [
        "The chart shows that Portugal (PRT) has the highest number of bookings, followed by the United Kingdom (GBR) and France (FRA). The booking volume decreases significantly after the top few countries."
      ],
      "metadata": {
        "id": "Fjb1IsQkh3yE"
      }
    },
    {
      "cell_type": "markdown",
      "source": [
        "##### **3. Will the gained insights help creating a positive business impact?**"
      ],
      "metadata": {
        "id": "lVeRmaN-b1tC"
      }
    },
    {
      "cell_type": "markdown",
      "source": [
        "  Yes, this insight can help hotels focus their marketing efforts on countries with high booking rates. Additionally, for countries with lower bookings, hotels can introduce targeted promotions, partnerships, or localized offers to attract more customers."
      ],
      "metadata": {
        "id": "dkP8qzkQb1po"
      }
    },
    {
      "cell_type": "markdown",
      "source": [
        "#### **Chart - 8**"
      ],
      "metadata": {
        "id": "tZXEgcjBhXR0"
      }
    },
    {
      "cell_type": "markdown",
      "source": [
        "#***Impact of Deposit Type on Booking Cancellations***"
      ],
      "metadata": {
        "id": "0m-JClwchXOT"
      }
    },
    {
      "cell_type": "code",
      "source": [
        "# Get the top 10 countries by booking count\n",
        "deposit_cancellations = df1.groupby(['deposit_type', 'is_canceled']).size().unstack()\n",
        "\n",
        "# Plot\n",
        "deposit_cancellations.plot(kind='bar',stacked =True,figsize=(10,5))\n",
        "\n",
        "plt.title(\"Deposit Type Impact on Cancellations\")\n",
        "plt.xlabel(\"Deposit Type\")\n",
        "plt.ylabel(\"Number of Bookings\")\n",
        "plt.legend([\"Not Canceled\", \"Canceled\"])\n",
        "plt.xticks(rotation=0)\n",
        "plt.show()"
      ],
      "metadata": {
        "id": "OyUqbICshjmL"
      },
      "execution_count": null,
      "outputs": []
    },
    {
      "cell_type": "markdown",
      "source": [
        "##### **1. Why did you pick the specific chart?**"
      ],
      "metadata": {
        "id": "G1jqA3pvhXMX"
      }
    },
    {
      "cell_type": "markdown",
      "source": [
        "A stacked bar chart is ideal to compare the total number of bookings across deposit types while also showing the proportion of cancellations within each deposit type."
      ],
      "metadata": {
        "id": "xlCs-M6bz7zC"
      }
    },
    {
      "cell_type": "markdown",
      "source": [
        "##### **2. What is/are the insight(s) found from the chart?**"
      ],
      "metadata": {
        "id": "64hdUwrihXFp"
      }
    },
    {
      "cell_type": "markdown",
      "source": [
        "Most bookings are made with \"No Deposit,\" but this category also sees a significant number of cancellations. Non-refundable bookings have fewer cancellations, indicating that pre-paid bookings discourage cancellations."
      ],
      "metadata": {
        "id": "dkTd5fZB0JwA"
      }
    },
    {
      "cell_type": "markdown",
      "source": [
        "**3. Will the gained insights help creating a positive business impact?**"
      ],
      "metadata": {
        "id": "K1DFD1NWhW6M"
      }
    },
    {
      "cell_type": "markdown",
      "source": [
        "Yes, by encouraging more non-refundable bookings or offering incentives for pre-paid options, hotels can reduce cancellations and improve revenue predictability."
      ],
      "metadata": {
        "id": "7d9zh3x70OT1"
      }
    },
    {
      "cell_type": "markdown",
      "source": [
        "#### **Chart - 9**"
      ],
      "metadata": {
        "id": "JH_9XThc0dGT"
      }
    },
    {
      "cell_type": "markdown",
      "source": [
        "#***Country-wise Bookings (Bar Chart - Top 10 Countries)***\n"
      ],
      "metadata": {
        "id": "lnk4wQaTluz3"
      }
    },
    {
      "cell_type": "code",
      "source": [
        "# Counting number of guests from various countries\n",
        "weekend_bookings = df[['stays_in_weekend_nights', 'stays_in_week_nights']].sum()\n",
        "\n",
        "plt.figure(figsize=(6, 4))\n",
        "weekend_bookings.plot(kind='bar', color=['blue', 'green'])\n",
        "plt.title(\"Weekend vs. Weekday Bookings\")\n",
        "plt.xlabel(\"Stay Type\")\n",
        "plt.ylabel(\"Number of Nights\")\n",
        "plt.xticks(rotation=0)\n",
        "plt.show()\n",
        "\n"
      ],
      "metadata": {
        "id": "J3GYWnzxl44q"
      },
      "execution_count": null,
      "outputs": []
    },
    {
      "cell_type": "markdown",
      "source": [
        "##### **1. Why did you pick the specific chart?**"
      ],
      "metadata": {
        "id": "88qGoWsS102x"
      }
    },
    {
      "cell_type": "markdown",
      "source": [
        "A bar chart was chosen because it effectively compares two categories — weekend and weekday stays — in terms of the number of nights. The clear height difference in the bars makes it easy to spot trends."
      ],
      "metadata": {
        "id": "h8oul6Ww2YVg"
      }
    },
    {
      "cell_type": "markdown",
      "source": [
        "##### **2. What is/are the insight(s) found from the chart?**\n",
        "\n"
      ],
      "metadata": {
        "id": "f6hrRgtC10pP"
      }
    },
    {
      "cell_type": "markdown",
      "source": [
        "The chart reveals that guests tend to stay more on weekdays than weekends, with weekday bookings significantly higher. This suggests that the majority of guests might be business travelers, who prefer staying during the workweek. Weekend stays are much lower, which may indicate fewer leisure travelers or guests choosing shorter weekend getaways."
      ],
      "metadata": {
        "id": "Akl7PBop2i99"
      }
    },
    {
      "cell_type": "markdown",
      "source": [
        "**3. Will the gained insights help creating a positive business impact?**"
      ],
      "metadata": {
        "id": "PREr3pdI10gO"
      }
    },
    {
      "cell_type": "markdown",
      "source": [
        "Yes, the insights help hotels plan better promotions. They can target business travelers with weekday deals and create attractive packages for families and vacationers on weekends. This can improve occupancy and revenue."
      ],
      "metadata": {
        "id": "775Vcus82xHf"
      }
    },
    {
      "cell_type": "markdown",
      "source": [
        "####**Chart - 10**"
      ],
      "metadata": {
        "id": "Npuy3LhPIa3w"
      }
    },
    {
      "cell_type": "markdown",
      "source": [
        "#***Which type of meal is most preffered by guests?***"
      ],
      "metadata": {
        "id": "RGsI7IO9KO8Y"
      }
    },
    {
      "cell_type": "code",
      "source": [
        "# Chart - 10 visualization code\n",
        "# Counting each meal type\n",
        "meal_count = df1['meal'].value_counts().reset_index()\n",
        "meal_count.columns = ['meal', 'count']\n",
        "sns.barplot(x = 'meal',y='count',data=meal_count,palette=\"Set2\", hue=\"meal\",)\n",
        "plt.title('Meal Type Distribution')\n",
        "plt.xlabel('Meal Type')\n",
        "plt.ylabel('Count')\n",
        "\n"
      ],
      "metadata": {
        "id": "PT9qeWk8KU-f"
      },
      "execution_count": null,
      "outputs": []
    },
    {
      "cell_type": "markdown",
      "source": [
        "##### 1. Why did you pick the specific chart?"
      ],
      "metadata": {
        "id": "t6m4tBOgl5Yx"
      }
    },
    {
      "cell_type": "markdown",
      "source": [
        "A bar chart can effectively visualizes the distribution of meal types in the dataset. It allows us to compare the popularity of different meal plans easily."
      ],
      "metadata": {
        "id": "FtNXDYaZSR2K"
      }
    },
    {
      "cell_type": "markdown",
      "source": [
        "#####2. What is/are the insight(s) found from the chart?"
      ],
      "metadata": {
        "id": "9MmROdm4luwe"
      }
    },
    {
      "cell_type": "markdown",
      "source": [
        "- BB (Bed & Breakfast) is the most preferred meal type, with significantly more bookings than other options.\n",
        "-HB (Half Board) and SC (Self Catering) have moderate demand compared to BB.\n",
        "-FB (Full Board) and Undefined meal types are the least preferred."
      ],
      "metadata": {
        "id": "_jP5182zSbEC"
      }
    },
    {
      "cell_type": "markdown",
      "source": [
        "3. Will the gained insights help creating a positive business impact?"
      ],
      "metadata": {
        "id": "rLqFaFHIluo_"
      }
    },
    {
      "cell_type": "markdown",
      "source": [
        "Yes, from the gained insight above now stakeholders know that BB(Bed and Breakfast) is most preferred meal type so they can arrange raw material for this meal in advance and deliver the meal without any delay."
      ],
      "metadata": {
        "id": "NurL4OlCSr1W"
      }
    },
    {
      "cell_type": "markdown",
      "source": [
        "#### Chart - 11"
      ],
      "metadata": {
        "id": "afua3IykVsOu"
      }
    },
    {
      "cell_type": "markdown",
      "source": [
        "#***Adr across different months***"
      ],
      "metadata": {
        "id": "NropWnBKZ9k3"
      }
    },
    {
      "cell_type": "code",
      "source": [
        "# Grouping arrival_month and hotel on mean of adr\n",
        "bookings_months=df1.groupby(['arrival_date_month','hotel'])['adr'].mean().reset_index()\n",
        "\n",
        "# Creating a month list to order the months in ascending\n",
        "months = ['January', 'February', 'March', 'April', 'May', 'June', 'July', 'August', 'September', 'October', 'November', 'December']\n",
        "\n",
        "# Creating a dataset of months, hotel and their adr\n",
        "bookings_months['arrival_date_month']=pd.Categorical(bookings_months['arrival_date_month'],categories=months,ordered=True)\n",
        "\n",
        "# Sorting the months\n",
        "bookings_months=bookings_months.sort_values('arrival_date_month')\n",
        "\n",
        "# Setting the chart size\n",
        "plt.figure(figsize=(15,5))\n",
        "\n",
        "# Plotting the values in a line chart\n",
        "sns.lineplot(x=bookings_months['arrival_date_month'],y=bookings_months['adr'],hue=bookings_months['hotel'])\n",
        "\n",
        "# Setting the labels and title\n",
        "plt.title('ADR across each month', fontsize=20)\n",
        "plt.xlabel('Month Name', fontsize=12)\n",
        "plt.ylabel('ADR', fontsize=12)"
      ],
      "metadata": {
        "id": "pc4O4z8WnWu5"
      },
      "execution_count": null,
      "outputs": []
    },
    {
      "cell_type": "markdown",
      "source": [
        "1. Why did you pick the specific chart?"
      ],
      "metadata": {
        "id": "4cb2m0g43Obp"
      }
    },
    {
      "cell_type": "markdown",
      "source": [
        "A line chart is an effective way to visualize trends in ADR (Average Daily Rate) over time. Since ADR fluctuates across different months, a line chart helps in identifying seasonal patterns, peaks, and dips. Additionally, using different lines for City Hotel and Resort Hotel allows for an easy comparison of their performance throughout the year.\n",
        "\n"
      ],
      "metadata": {
        "id": "gWDF7QKQ3QvT"
      }
    },
    {
      "cell_type": "markdown",
      "source": [
        "3. Will the gained insights help creating a positive business impact?"
      ],
      "metadata": {
        "id": "5uiCliZc3vUK"
      }
    },
    {
      "cell_type": "markdown",
      "source": [
        "- Resort Hotel sees a sharp increase in ADR during June-August, peaking in August, indicating high seasonal demand.\n",
        "-City Hotel maintains a relatively stable ADR throughout the year, with a slight peak around March-May.\n",
        "-Resort Hotel experiences a significant drop in ADR from September to November, likely due to lower tourist demand in the offseason."
      ],
      "metadata": {
        "id": "19q4gjh44TRE"
      }
    },
    {
      "cell_type": "markdown",
      "source": [
        "#####2. What is/are the insight(s) found from the chart?"
      ],
      "metadata": {
        "id": "qh6qIAQy3lwu"
      }
    },
    {
      "cell_type": "markdown",
      "source": [
        "Yes, these insights can drive key business decisions:\n",
        "\n",
        "- Revenue Optimization: Higher ADR in peak months suggests an opportunity to maximize profits through premium pricing.\n",
        "-Seasonal Promotions: Discount strategies or bundled offers can be introduced during low-demand months (September-November) to attract more guests.\n",
        "-Staff & Inventory Management: Hotels can align staffing levels and resources based on ADR trends to reduce operational costs.\n",
        "-Marketing Strategies: More aggressive promotions and advertising should be targeted for the peak season, while special offers can be created for the offseason to maintain steady occupancy"
      ],
      "metadata": {
        "id": "plzfo6XG48dn"
      }
    },
    {
      "cell_type": "markdown",
      "source": [
        "#### Chart - 12"
      ],
      "metadata": {
        "id": "NQDs42LC5Rr8"
      }
    },
    {
      "cell_type": "markdown",
      "source": [
        "#***Which distribution channel has highest adr?***"
      ],
      "metadata": {
        "id": "AaxdsMVv5XJ6"
      }
    },
    {
      "cell_type": "code",
      "source": [
        "# Grouping distribution channel and hotels on their adr\n",
        "distribution_adr = df1.groupby(['distribution_channel','hotel'])['adr'].mean().reset_index()\n",
        "# figure size\n",
        "plt.figure(figsize=(15,5))\n",
        "sns.barplot(x= 'adr',y = 'distribution_channel',data = distribution_adr,hue = 'hotel')\n",
        "\n",
        "# Setting the title\n",
        "plt.title('ADR across each distribution channel', fontsize=20)\n"
      ],
      "metadata": {
        "id": "rt4HnjK_aYIF"
      },
      "execution_count": null,
      "outputs": []
    },
    {
      "cell_type": "markdown",
      "source": [
        "####1. Why did you pick the specific chart?"
      ],
      "metadata": {
        "id": "VMZbARcJ8eCS"
      }
    },
    {
      "cell_type": "markdown",
      "source": [
        "A horizontal bar chart is used because it effectively compares the ADR (Average Daily Rate) across different distribution channels. Since there are multiple categories (Corporate, Direct, GDS, TA/TO, Undefined), a bar chart makes it easy to see variations in ADR for both City Hotel and Resort Hotel."
      ],
      "metadata": {
        "id": "W7D0g6go9BqJ"
      }
    },
    {
      "cell_type": "markdown",
      "source": [
        "#####2. What is/are the insight(s) found from the chart?"
      ],
      "metadata": {
        "id": "mjKcRrGw8d-3"
      }
    },
    {
      "cell_type": "markdown",
      "source": [
        "- City Hotel has the highest ADR in the GDS (Global Distribution System) channel, suggesting that bookings through travel agencies or corporate systems are more expensive.\n",
        "- Resort Hotel has the highest ADR in the Undefined channel, indicating a unique booking source with premium pricing.\n",
        "-Direct bookings (where customers book directly with the hotel) show strong ADR for both hotel types.\n",
        "-Corporate bookings have lower ADR, especially for the Resort Hotel, meaning corporate clients might be receiving discounted rates."
      ],
      "metadata": {
        "id": "SPZSXr4h9GOs"
      }
    },
    {
      "cell_type": "markdown",
      "source": [
        "3. Will the gained insights help creating a positive business impact?"
      ],
      "metadata": {
        "id": "5vS13QAa8d8N"
      }
    },
    {
      "cell_type": "markdown",
      "source": [
        "Yes, these insights can help in multiple ways:\n",
        "\n",
        "- Revenue Strategy: Hotels can optimize pricing by focusing on high-ADR channels (like GDS for City Hotel and Undefined for Resort Hotel).\n",
        "-Marketing Focus: More promotions or discounts can be introduced for lower ADR channels (e.g., Corporate bookings for Resort Hotel).\n",
        "-Distribution Strategy: Hotels can negotiate better deals with Travel Agents (TA/TO) and optimize their direct booking strategies to maximize revenue.\n",
        "-Customer Segmentation: The hotel can analyze why certain channels have higher ADR and use targeted marketing to attract high-paying customers."
      ],
      "metadata": {
        "id": "UAtc0I4S8d5i"
      }
    },
    {
      "cell_type": "markdown",
      "source": [
        "#### Chart - 13"
      ],
      "metadata": {
        "id": "gl450nWi9m5X"
      }
    },
    {
      "cell_type": "code",
      "source": [
        "\n",
        "# Chart - 8 visualization code\n",
        "# Setting the figure size\n",
        "plt.figure(figsize=(15,5))\n",
        "\n",
        "# Plotting the values in chart\n",
        "sns.countplot(x=df1['reserved_room_type'],order=df1['reserved_room_type'].value_counts().index,palette = 'Set2')\n",
        "\n",
        "# Setting the title\n",
        "plt.title('Preffered Room Type by Guests', fontsize = 20)\n",
        "\n",
        "# Show the chart\n",
        "plt.show()"
      ],
      "metadata": {
        "id": "X-HPXsJx9ryv"
      },
      "execution_count": null,
      "outputs": []
    },
    {
      "cell_type": "markdown",
      "source": [
        "####1. Why did you pick the specific chart?\n"
      ],
      "metadata": {
        "id": "1fCn98gQ9mzn"
      }
    },
    {
      "cell_type": "markdown",
      "source": [
        "A bar chart is ideal for visualizing categorical data like room type preferences. It helps in easily comparing the popularity of different room types among guests."
      ],
      "metadata": {
        "id": "K4VYrO_WBSt4"
      }
    },
    {
      "cell_type": "markdown",
      "source": [
        "#####2. What is/are the insight(s) found from the chart?"
      ],
      "metadata": {
        "id": "SHjFd3yy9mxc"
      }
    },
    {
      "cell_type": "markdown",
      "source": [
        "- room type \"A\" is the most preferred by a large margin.\n",
        "- Room type \"D\" is the second most booked, but far behind room type \"A\".\n",
        "- Other room types (E, F, G, B, C, H, P, L) have significantly lower demand."
      ],
      "metadata": {
        "id": "DE78K4DYBbZx"
      }
    },
    {
      "cell_type": "markdown",
      "source": [
        "3. Will the gained insights help creating a positive business impact?"
      ],
      "metadata": {
        "id": "fMOqANLh9mvE"
      }
    },
    {
      "cell_type": "markdown",
      "source": [
        "Yes, these insights can help businesses in the following ways:\n",
        "\n",
        "- Hotels can allocate more resources (e.g., staff, cleaning services) to maintain room type \"A\" efficiently.\n",
        "-Dynamic pricing strategies can be applied, such as increasing the price of highly preferred rooms during peak seasons.\n",
        "-Less preferred rooms can be offered at discounts or included in promotional packages to increase occupancy."
      ],
      "metadata": {
        "id": "j7K_PrmDBs8A"
      }
    },
    {
      "cell_type": "markdown",
      "source": [
        "####Chart - 14\n",
        "\n",
        "\n",
        "     "
      ],
      "metadata": {
        "id": "0XyThfxDQtNk"
      }
    },
    {
      "cell_type": "markdown",
      "source": [
        "#Correlation Heatmap"
      ],
      "metadata": {
        "id": "cAvjrJZbRK_P"
      }
    },
    {
      "cell_type": "code",
      "source": [
        "\n",
        "# Correlation Heatmap visualization code\n",
        "# Setting the chart size\n",
        "plt.figure(figsize=(15,10\n",
        "                    ))\n",
        "\n",
        "# Creating heatmap to see correlation of each columns\n",
        "sns.heatmap(df1.corr(numeric_only=True),annot=True)          # Setting the numeric only colun to True to avoid warning\n",
        "\n",
        "# Setting the title\n",
        "plt.title('Correlation of the columns', fontsize=20)\n",
        "\n",
        "# Show heatmap\n",
        "plt.show()\n"
      ],
      "metadata": {
        "id": "36VVGcfSQxU2"
      },
      "execution_count": null,
      "outputs": []
    },
    {
      "cell_type": "markdown",
      "source": [
        "####1. Why did you pick the specific chart?"
      ],
      "metadata": {
        "id": "bckRaaQKUeqG"
      }
    },
    {
      "cell_type": "markdown",
      "source": [
        "I chose the correlation heatmap because it helps visualize relationships between numerical variables in a clear and intuitive way, making it easier to spot patterns. From the chart, I found that longer lead times and previous cancellations slightly increase the chances of cancellation, while repeated guests and those with more special requests are less likely to cancel. These insights help understand customer behavior and identify factors that influence booking cancellations.\n",
        "\n",
        "\n",
        "\n",
        "\n",
        "\n",
        "\n",
        "\n"
      ],
      "metadata": {
        "id": "t8rILKyqUVxg"
      }
    },
    {
      "cell_type": "markdown",
      "source": [
        "2. What is/are the insight(s) found from the chart?"
      ],
      "metadata": {
        "id": "wk3yTtOMUVuO"
      }
    },
    {
      "cell_type": "markdown",
      "source": [
        "Some key insights from this heatmap include:\n",
        "\n",
        "- is_canceled and lead_time have a moderate positive correlation (~0.29) — This suggests that the longer the lead time (time between booking and arrival), the more likely a booking is to be canceled.\n",
        "-is_repeated_guest has a weak negative correlation with is_canceled (~-0.084) — Meaning repeated guests are slightly less likely to cancel their bookings.\n",
        "-previous_cancellations has a positive correlation (~0.12) with is_canceled — Customers who canceled bookings in the past are more likely to cancel again.\n",
        "-total_of_special_requests has a weak negative correlation (~-0.23) with is_canceled — Guests with more special requests tend to cancel less, possibly indicating more serious intent to stay.\n"
      ],
      "metadata": {
        "id": "DJH3ezqMVDfC"
      }
    },
    {
      "cell_type": "markdown",
      "source": [
        "####Chart - 15"
      ],
      "metadata": {
        "id": "gmN4le6nUVr6"
      }
    },
    {
      "cell_type": "markdown",
      "source": [
        "#Pair Plot"
      ],
      "metadata": {
        "id": "flYDuAYtQtC7"
      }
    },
    {
      "cell_type": "code",
      "source": [
        "# Pair Plot visualization code\n",
        "sns.pairplot(df1)\n",
        "plt.show()"
      ],
      "metadata": {
        "id": "NFPXn0isW54v"
      },
      "execution_count": null,
      "outputs": []
    },
    {
      "cell_type": "markdown",
      "source": [
        "\n",
        "\n",
        "#Solution to Business Objective"
      ],
      "metadata": {
        "id": "K4MyxZRZWv36"
      }
    },
    {
      "cell_type": "markdown",
      "source": [
        "- Resort Hotel is the most preferred, so stakeholders can offer discounts on City Hotels to attract more bookings.\n",
        "- Around 27.52% of bookings are canceled, so the hotel can offer loyalty discounts to guests who don’t cancel their bookings.\n",
        "- BB (Bed and Breakfast) is the most preferred meal type, so the hotel can maintain raw materials in advance to avoid delays.\n",
        "- City Hotels have higher waiting times, so the hotel should increase the number of rooms to reduce waiting periods.\n",
        "- TA (Travel Agents) contribute the most bookings, so the hotel could run offers to attract bookings from other market segments.\n",
        "- Room Type A is the most preferred, so the hotel should increase the number of rooms of this type.\n",
        "- The number of repeated guests is low, indicating some dissatisfaction, which the hotel should address to improve guest retention.\n",
        "- City Hotels are much busier than Resort Hotels, reflected in the higher waiting periods at City Hotels.\n",
        "- Most guests stay for less than 7 days, so the hotel could improve services to encourage longer stays.\n",
        "- Maximum guests were from Portugal, so the hotel could run country-specific campaigns to attract more international guests."
      ],
      "metadata": {
        "id": "6riuU2ArYNx6"
      }
    },
    {
      "cell_type": "markdown",
      "source": [
        "#Conclusion"
      ],
      "metadata": {
        "id": "YHO5O8JrctXT"
      }
    },
    {
      "cell_type": "markdown",
      "source": [
        "The analysis of hotel booking data highlights key areas where the hotel can improve operations and enhance guest satisfaction. By offering targeted discounts, improving room availability in City Hotels, maintaining stock for popular meal types, and addressing factors contributing to cancellations and low repeat guest rates, the hotel can increase bookings, reduce cancellations, and improve overall guest experience. Focusing on these insights will help the hotel make data-driven decisions to optimize performance and revenue."
      ],
      "metadata": {
        "id": "oAZVwrfLcxs5"
      }
    }
  ]
}
